{
 "cells": [
  {
   "cell_type": "code",
   "execution_count": 9,
   "metadata": {},
   "outputs": [],
   "source": [
    "import pymysql"
   ]
  },
  {
   "cell_type": "code",
   "execution_count": 10,
   "metadata": {},
   "outputs": [],
   "source": [
    "#변수 = 임포트.함수()\n",
    "sample_db = pymysql.connect(\n",
    "    user = \"root\",\n",
    "    passwd = \"asd456\",\n",
    "    host = \"localhost\",\n",
    "    db = \"test\",\n",
    "    charset = \"utf8\"\n",
    ")\n",
    "\n",
    "#커서생성\n",
    "cursor = sample_db.cursor(pymysql.cursors.DictCursor)"
   ]
  },
  {
   "cell_type": "code",
   "execution_count": 11,
   "metadata": {},
   "outputs": [
    {
     "name": "stdout",
     "output_type": "stream",
     "text": [
      "[{'post_id': 'test2', 'password': '1111'}, {'post_id': 'test4', 'password': '1111'}, {'post_id': 'test5', 'password': '0'}, {'post_id': 'test6', 'password': '0'}, {'post_id': 'test7', 'password': '0'}, {'post_id': 'test8', 'password': '0'}, {'post_id': 'test9', 'password': '0'}]\n"
     ]
    }
   ],
   "source": [
    "sql = \"SELECT * FROM base1\"\n",
    "\n",
    "# for i in range(5,10):\n",
    "#     sql2 = \"insert into base1 values ('test%d', password='1111')\" %i\n",
    "#     cursor.execute(sql2)\n",
    "\n",
    "cursor.execute(sql)\n",
    "result = cursor.fetchall()\n",
    "print(result)"
   ]
  },
  {
   "cell_type": "code",
   "execution_count": 12,
   "metadata": {},
   "outputs": [
    {
     "name": "stdout",
     "output_type": "stream",
     "text": [
      "[{'post_id': 'test2', 'password': '1111'}, {'post_id': 'test4', 'password': '1111'}, {'post_id': 'test5', 'password': '0'}, {'post_id': 'test6', 'password': '0'}, {'post_id': 'test7', 'password': '0'}, {'post_id': 'test8', 'password': '0'}, {'post_id': 'test9', 'password': '0'}]\n"
     ]
    }
   ],
   "source": [
    "select_sql = \"SELECT * FROM base1\"\n",
    "# select_sql = \"SELECT base1.post_id, base1.password, base2.phone FROM base1 INNER JOIN base2 ON base1.post_id=base2.post_id\"\n",
    "# select_sql = \"SELECT password. COUNT(password) as cnt FROM base1 GROUP BY password\"\n",
    "# select_sql = \"SELECT password FROM base1 GROUP BY password\" #password list of base1\n",
    "#as (x) for new key\n",
    "\n",
    "cursor.execute(select_sql)\n",
    "result = cursor.fetchall() #fectchall for print all\n",
    "\n",
    "print(result) #파이썬으로 다시출력\n",
    "\n",
    "def commit_close():\n",
    "    sample_db.commit()\n",
    "    sample_db.close()\n",
    "    \n",
    "commit_close()"
   ]
  },
  {
   "cell_type": "code",
   "execution_count": 13,
   "metadata": {},
   "outputs": [
    {
     "name": "stdout",
     "output_type": "stream",
     "text": [
      "{'name': 'test1', 'password': '1234'}\n",
      "{'name': 'test2', 'password': '1234'}\n",
      "{'name': 'test3', 'password': '1234'}\n",
      "{'name': 'test1', 'password': '1234'}\n",
      "{'name': 'test2', 'password': '1234'}\n",
      "{'name': 'test3', 'password': '1234'}\n"
     ]
    }
   ],
   "source": [
    "dict=[{\"name\" : \"test1\", \"password\" : \"1234\"},\n",
    "    {\"name\" : \"test2\", \"password\" : \"1234\"},\n",
    "    {\"name\" : \"test3\", \"password\" : \"1234\"}]\n",
    "\n",
    "for i in range(len(dict)):\n",
    "    print(dict[i])\n",
    "\n",
    "for list in dict:\n",
    "    print(list)"
   ]
  }
 ],
 "metadata": {
  "kernelspec": {
   "display_name": "Python 3",
   "language": "python",
   "name": "python3"
  },
  "language_info": {
   "codemirror_mode": {
    "name": "ipython",
    "version": 3
   },
   "file_extension": ".py",
   "mimetype": "text/x-python",
   "name": "python",
   "nbconvert_exporter": "python",
   "pygments_lexer": "ipython3",
   "version": "3.10.2"
  }
 },
 "nbformat": 4,
 "nbformat_minor": 4
}
