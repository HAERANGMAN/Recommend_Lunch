{
 "cells": [
  {
   "cell_type": "code",
   "execution_count": null,
   "metadata": {},
   "outputs": [],
   "source": [
    "import pandas as pd\n",
    "\n",
    "corona_df = pd.read_csv('corona.csv')\n",
    "corona_df"
   ]
  },
  {
   "cell_type": "code",
   "execution_count": null,
   "metadata": {},
   "outputs": [],
   "source": [
    "# 데이터프레임의 columns 값을 변경해준다\n",
    "corona_df.columns=['인덱스','등록일시', '사망자', '확진자', '게시글번호', '기준일', '기준시간', '수정일시', '누적 의심자', '누적확진률']\n",
    "corona_df"
   ]
  },
  {
   "cell_type": "code",
   "execution_count": null,
   "metadata": {},
   "outputs": [],
   "source": [
    "corona_df.describe()\n"
   ]
  },
  {
   "cell_type": "markdown",
   "metadata": {},
   "source": [
    "### describe()는 데이터프레임의 정보를 요약하여 보여준다. \n",
    "1. count : 컬럼별 데이터의 수\n",
    "2. mean : 컬럼별 데이터의 평균\n",
    "3. std : 컬럼별 데이터의 표준편차\n",
    "4. min : 컬럼별 데이터 최소값\n",
    "5. max : 컬럼별 데이터의 최대값\n",
    "6. 25% / 50% / 75% : 백분위수의 각 지점으로, 분포를 반영하여 평균을 보완하는 목적으로 사용"
   ]
  },
  {
   "cell_type": "code",
   "execution_count": null,
   "metadata": {},
   "outputs": [],
   "source": [
    "corona_df['누적확진률'].describe()"
   ]
  },
  {
   "cell_type": "code",
   "execution_count": null,
   "metadata": {},
   "outputs": [],
   "source": [
    "corona_df.사망자"
   ]
  },
  {
   "cell_type": "code",
   "execution_count": null,
   "metadata": {},
   "outputs": [],
   "source": [
    "corona_df['확진자']"
   ]
  },
  {
   "cell_type": "code",
   "execution_count": null,
   "metadata": {},
   "outputs": [],
   "source": [
    "corona_df_2 = corona_df.sort_values(\"등록일시\")\n",
    "corona_df_2\n"
   ]
  },
  {
   "cell_type": "markdown",
   "metadata": {},
   "source": [
    "### sort_index(), sort_values()\n",
    "1. sort_index는 데이터프레임을 오름차순 혹은 내림차순으로 정렬\n",
    "1. sort_valeus를 이용하여 해당하는 컬럼의 값을 기준으로 오름차순으로 데이터 정렬\n",
    "2. 내림차순으로 변경을 하고 싶다고 하면 ascending=False 옵션을 사용하면 내림차순으로 정렬"
   ]
  },
  {
   "cell_type": "code",
   "execution_count": null,
   "metadata": {},
   "outputs": [],
   "source": [
    "corona_df_2[\"일일 확진자\"] = (corona_df_2[\"확진자\"] - corona_df_2[\"확진자\"].shift()).fillna(0)\n",
    "corona_df_2"
   ]
  },
  {
   "cell_type": "markdown",
   "metadata": {},
   "source": [
    "### shift()\n",
    "1. shift()는 colimn을 하나 내리는 함수\n",
    "2. shift(N)은 N개만큼 column를 내린다. \n",
    "\n",
    "### fillna()\n",
    "1. fillna()는 값이 NaN인 경우 ()안에 값으로 대체한다."
   ]
  },
  {
   "cell_type": "code",
   "execution_count": null,
   "metadata": {},
   "outputs": [],
   "source": [
    "corona_df_3 = corona_df.copy().sort_values(\"등록일시\")\n",
    "corona_df_3[\"일일 확진자\"] = corona_df_3[\"확진자\"].diff()\n",
    "corona_df_3"
   ]
  },
  {
   "cell_type": "code",
   "execution_count": null,
   "metadata": {},
   "outputs": [],
   "source": [
    "corona_df_2['일일 확진자'].value_counts()"
   ]
  },
  {
   "cell_type": "markdown",
   "metadata": {},
   "source": [
    "### value_counts()\n",
    "1. 컬럼 값의 분포도를 나타낸다. (내림차순)\n",
    "2. sql의 count와 같다고 생각하면 편하다. \n",
    "3. ascending = True 옵션을 추가하면 오름차순으로 변경된다."
   ]
  },
  {
   "cell_type": "code",
   "execution_count": null,
   "metadata": {},
   "outputs": [],
   "source": [
    "corona_df_4 = corona_df_2.drop(['인덱스', '기준시간', '누적 의심자', '누적확진률', \"게시글번호\", '수정일시'], axis=1)\n",
    "corona_df_4"
   ]
  },
  {
   "cell_type": "code",
   "execution_count": null,
   "metadata": {},
   "outputs": [],
   "source": [
    "corona_df_4.reset_index(drop=True)"
   ]
  },
  {
   "cell_type": "markdown",
   "metadata": {},
   "source": [
    "### index 초기화\n",
    "1. DataFrame.reset_index()\n",
    "2. level은 index의 주어진 단계를 제거. 기본값은 모든 단계를 제거\n",
    "3. col_level은 멀티인덱스인 경우 어떤 것을 삽입할 것인지 설정\n",
    "4. col_fill은 멀티인덱스인 경우 다른 단계의 이름을 설정\n",
    "5. drop은 기존의 인덱스 값을 삭제할지 여부 설정\n",
    "6. inplace는 원본 객체를 변경할지 여부 설정"
   ]
  },
  {
   "cell_type": "code",
   "execution_count": null,
   "metadata": {},
   "outputs": [],
   "source": [
    "import matplotlib.pyplot as plt\n",
    "\n",
    "decide_cnt = corona_df_4.head(30)[\"일일 확진자\"].values.tolist()\n",
    "state_dt = corona_df_4.head(30)[\"등록일시\"].values.tolist()\n",
    "\n",
    "plt.plot(state_dt, decide_cnt)\n",
    "plt.show()"
   ]
  },
  {
   "cell_type": "code",
   "execution_count": null,
   "metadata": {},
   "outputs": [],
   "source": []
  }
 ],
 "metadata": {
  "interpreter": {
   "hash": "4c18eaafcdecf4bd86273abe19a87690fc52b2a331ea498ee240a11474cedd09"
  },
  "kernelspec": {
   "display_name": "Python 3.9.7 64-bit",
   "language": "python",
   "name": "python3"
  },
  "language_info": {
   "codemirror_mode": {
    "name": "ipython",
    "version": 3
   },
   "file_extension": ".py",
   "mimetype": "text/x-python",
   "name": "python",
   "nbconvert_exporter": "python",
   "pygments_lexer": "ipython3",
   "version": "3.10.2"
  },
  "orig_nbformat": 4
 },
 "nbformat": 4,
 "nbformat_minor": 2
}
