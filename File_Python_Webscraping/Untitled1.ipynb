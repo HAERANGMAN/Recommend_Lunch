{
 "cells": [
  {
   "cell_type": "code",
   "execution_count": 29,
   "metadata": {},
   "outputs": [
    {
     "name": "stdout",
     "output_type": "stream",
     "text": [
      "[]\n",
      "['California Gold Nutrition, Gold C, Vitamin C, 1,000 mg, 60 Veggie Capsules']\n",
      "['$4.00']\n",
      "['0.24 lbs']\n"
     ]
    }
   ],
   "source": [
    "from bs4 import BeautifulSoup\n",
    "from selenium import webdriver\n",
    "from selenium.webdriver.chrome.options import Options\n",
    "from selenium.webdriver.common.keys import Keys\n",
    "import time\n",
    "\n",
    "chrome_options = Options()\n",
    "chrome_options.add_experimental_option(\"debuggerAddress\", \"127.0.0.1:9222\")\n",
    "chrome_driver = r\"C:\\Users\\201210961\\Desktop\\Coding\\Python Webscraping\\chromedriver_win32\\chromedriver.exe\" \n",
    "driver = webdriver.Chrome(chrome_driver, options=chrome_options)\n",
    "\n",
    "driver.get(\"https://www.iherb.com/pr/California-Gold-Nutrition-Gold-C-Vitamin-C-1-000-mg-60-Veggie-Capsules/61864\")\n",
    "time.sleep(0.5)\n",
    "\n",
    "html = driver.page_source\n",
    "soup = BeautifulSoup(html, 'html.parser')\n",
    "\n",
    "# 링크\n",
    "fldzm=[ ]\n",
    "# 이름 \n",
    "dlfma=[ ]\n",
    "# 가격\n",
    "rkrur=[ ]\n",
    "# 무게\n",
    "anrp=[ ]\n",
    "\n",
    "dlfma.append(soup.select('#name')[0].text)\n",
    "rkrur.append(soup.find('div',id='price').text.strip())\n",
    "anrp.append(soup.find('span',class_='product-weight').text.strip())\n",
    "\n",
    "# dlfmaa=soup.select('#name')\n",
    "# dlfma.append(dlfmaa[0].get_text())\n",
    "# rkrurr=soup.select('#price')\n",
    "# rkrur.append(rkrurr)\n",
    "# anrpp=soup.select('.product-weight')\n",
    "# anrp.append(anrpp)\n",
    "\n",
    "print(fldzm)\n",
    "print(dlfma)\n",
    "print(rkrur)\n",
    "print(anrp)\n"
   ]
  },
  {
   "cell_type": "code",
   "execution_count": null,
   "metadata": {},
   "outputs": [],
   "source": []
  },
  {
   "cell_type": "code",
   "execution_count": null,
   "metadata": {},
   "outputs": [],
   "source": []
  }
 ],
 "metadata": {
  "kernelspec": {
   "display_name": "Python 3",
   "language": "python",
   "name": "python3"
  },
  "language_info": {
   "codemirror_mode": {
    "name": "ipython",
    "version": 3
   },
   "file_extension": ".py",
   "mimetype": "text/x-python",
   "name": "python",
   "nbconvert_exporter": "python",
   "pygments_lexer": "ipython3",
   "version": "3.8.5"
  }
 },
 "nbformat": 4,
 "nbformat_minor": 4
}
