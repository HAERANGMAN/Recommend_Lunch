{
 "cells": [
  {
   "cell_type": "code",
   "execution_count": 4,
   "metadata": {},
   "outputs": [
    {
     "name": "stdout",
     "output_type": "stream",
     "text": [
      "크롤링할 키워드는 무엇입니까?: C:\\Users\\201210961\\Desktop\\Coding\\Python Webscraping\\test.txt\n",
      "검색 결과를 저장할 파일경로와 이름을 지정하세요(예:c:\\data\\test.txt): C:\\Users\\201210961\\Desktop\\Coding\\Python Webscraping\\test.txt\n",
      "1해병 2사단장 보직해임NEW\n",
      "\n",
      "\n",
      "2챌린지 동참NEW\n",
      "\n",
      "\n",
      "3은행 예금금리 사상 첫 0%대NEW\n",
      "\n",
      "\n",
      "4인허가 속도낸다NEW\n",
      "\n",
      "\n",
      "5이석구 전 스타벅스 대표NEW\n",
      "\n",
      "\n",
      "6대출금리도 최저NEW\n",
      "\n",
      "\n",
      "7수도권 광주NEW\n",
      "\n",
      "\n",
      "8행정수도 이전NEW\n",
      "\n",
      "\n",
      "9세종시 이전NEW\n",
      "\n",
      "\n",
      "103년만에 증가NEW\n",
      "\n",
      "\n"
     ]
    }
   ],
   "source": [
    "#Step 1. 필요한 모듈과 라이브러리를 로딩하고 검색어를 입력 받습니다\n",
    "from bs4 import BeautifulSoup     \n",
    "from selenium import webdriver\n",
    "import time\n",
    "import sys\n",
    "\n",
    "query_txt = input('크롤링할 키워드는 무엇입니까?: ')\n",
    "f_name = input('검색 결과를 저장할 파일경로와 이름을 지정하세요(예:c:\\\\data\\\\test.txt): ')\n",
    "\n",
    "#Step 2. 크롬 드라이버를 사용해서 웹 브라우저를 실행합니다.\n",
    "path = r\"C:\\Users\\201210961\\Desktop\\Coding\\Python Webscraping\\chromedriver_win32\\chromedriver.exe\"\n",
    "driver = webdriver.Chrome(path)\n",
    "driver.get(\"https://www.naver.com/\")\n",
    "time.sleep(1.5)  #  창이 모두 열릴 때 까지 2초 기다립니다.\n",
    "\n",
    "#코로나 얼럿창 있을 경우 닫기 클릭하기 \n",
    "\n",
    "# driver.find_element_by_xpath('//*[@id=\"safetyStay1\"]/div/div/div/button').click()\n",
    "       \n",
    "#Step 3. 검색창의 이름을 찾아서 검색어를 입력하고 검색을 실행합니다\n",
    "# driver.find_element_by_id(\"btnSearch\").click()\n",
    "element = driver.find_element_by_id(\"query\")\n",
    "element.send_keys(query_txt)\n",
    "\n",
    "driver.find_element_by_class_name(\"ico_search_submit\").click()\n",
    "\n",
    "# 학습목표 1: 텍스트를 추출하여 화면에 출력하기\n",
    "# Step 4. 현재 페이지에 있는 내용을 화면에 출력하기\n",
    "\n",
    "time.sleep(1)\n",
    "\n",
    "full_html = driver.page_source\n",
    "\n",
    "soup = BeautifulSoup(full_html, 'html.parser')\n",
    "\n",
    "content_list = soup.find('ol','lst_realtime_srch _tab_area')\n",
    "\n",
    "for i in content_list:\n",
    "    print(i.text.strip())\n",
    "    print(\"\\n\")\n",
    " "
   ]
  },
  {
   "cell_type": "code",
   "execution_count": 7,
   "metadata": {},
   "outputs": [
    {
     "name": "stdout",
     "output_type": "stream",
     "text": [
      " 요청하신 데이터 수집 작업이 정상적으로 완료되었습니다\n"
     ]
    }
   ],
   "source": [
    "# 학습목표 2: 텍스트를 추출하여 txt 형식으로 저장하기\n",
    "# Step 5. 현재 페이지에 있는 내용을 txt 형식으로 파일에 저장하기\n",
    "orig_stdout = sys.stdout\n",
    "f = open(f_name , 'a' , encoding='UTF-8')\n",
    "sys.stdout = f\n",
    "time.sleep(1)\n",
    "\n",
    "html = driver.page_source\n",
    "soup = BeautifulSoup(html, 'html.parser')\n",
    "content_list = soup.find('ol','lst_realtime_srch _tab_area')\n",
    "\n",
    "for i in content_list:\n",
    "    print(i.text.strip())\n",
    "    print(\"\\n\")\n",
    "    \n",
    "sys.stdout = orig_stdout\n",
    "f.close()\n",
    "\n",
    "print(\" 요청하신 데이터 수집 작업이 정상적으로 완료되었습니다\")"
   ]
  },
  {
   "cell_type": "code",
   "execution_count": null,
   "metadata": {},
   "outputs": [],
   "source": []
  }
 ],
 "metadata": {
  "kernelspec": {
   "display_name": "Python 3",
   "language": "python",
   "name": "python3"
  },
  "language_info": {
   "codemirror_mode": {
    "name": "ipython",
    "version": 3
   },
   "file_extension": ".py",
   "mimetype": "text/x-python",
   "name": "python",
   "nbconvert_exporter": "python",
   "pygments_lexer": "ipython3",
   "version": "3.8.5"
  }
 },
 "nbformat": 4,
 "nbformat_minor": 2
}
