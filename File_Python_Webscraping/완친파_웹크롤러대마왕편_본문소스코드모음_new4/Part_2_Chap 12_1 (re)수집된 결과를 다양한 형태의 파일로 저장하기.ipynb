{
 "cells": [
  {
   "cell_type": "code",
   "execution_count": 20,
   "metadata": {},
   "outputs": [
    {
     "name": "stdout",
     "output_type": "stream",
     "text": [
      "[<ul class=\"type01\" id=\"elThumbnailResultArea\"> <li class=\"sh_blog_top\" id=\"sp_blog_1\"> <div class=\"thumb thumb-rollover\"> <a class=\"sp_thmb thmb80\" href=\"https://blog.naver.com/hnmh2332?Redirect=Log&amp;logNo=222035339939\" onclick=\"return goOtherCR(this, 'a=blg*i.img&amp;r=1&amp;i=90000003_0000000000000033B2566AA3&amp;u='+urlencode(this.href))\" target=\"_blank\"><img alt=\"국내 여름휴가 추천 울\" class=\"sh_blog_thumbnail\" height=\"70\" onerror=\"this.parentNode.parentNode.style.display='none';\" onload=\"onThumbnailLoad(this,'https://search.pstatic.net/common/?src=http%3A%2F%2Fblogfiles.naver.net%2FMjAyMDA3MTlfNjAg%2FMDAxNTk1MTE1NzU4MjA3.PFhN6uYZxFK4kR912kdk8y_r5l3yLS-c540JYfHvRmYg.vL3dcsjE1anq0t6GSpanOtjjHDYUYpcRDVS3TvbtRagg.JPEG.hnmh2332%2FDSC_3277.jpg%23966x834&amp;type=m80_80');\" src=\"https://search.pstatic.net/common/?src=http%3A%2F%2Fblogfiles.naver.net%2FMjAyMDA3MTlfNjAg%2FMDAxNTk1MTE1NzU4MjA3.PFhN6uYZxFK4kR912kdk8y_r5l3yLS-c540JYfHvRmYg.vL3dcsjE1anq0t6GSpanOtjjHDYUYpcRDVS3TvbtRagg.JPEG.hnmh2332%2FDSC_3277.jpg%23966x834&amp;type=m80_80\" width=\"80\"/><span class=\"thmb_v\"></span><span class=\"mask\"></span> </a> <a class=\"thumb_num num-rollover\" href=\"#\"><span>35<span class=\"blind\">장의 이미지 더보기</span></span></a> <div class=\"thumb_slide_wrap\" style=\"width:0px; overflow:hidden; display:none;\"></div> </div> <dl> <dt><a class=\"sh_blog_title _sp_each_url _sp_each_title\" href=\"https://blog.naver.com/hnmh2332?Redirect=Log&amp;logNo=222035339939\" onclick=\"return goOtherCR(this, 'a=blg*i.tit&amp;r=1&amp;i=90000003_0000000000000033B2566AA3&amp;u='+urlencode(this.href))\" target=\"_blank\" title=\"국내 여름휴가 추천 울진여행 왕피천케이블카 탔어요~\">국내 <strong class=\"hl\">여름휴가</strong> 추천 울진여행 왕피천케이블카 탔어요~</a></dt> <dd class=\"txt_inline\">2020.07.19. </dd> <dd class=\"sh_blog_passage\">국내 <strong class=\"hl\">여름휴가</strong> 추천 어디가 좋을까? 항상 고민하는 사람들이 많은데 여름철에는 뭐나뭐니해도 시원한 바다나 계곡이 있으면 최고다. 그렇게 산책코스를 둘러보고...</dd> <dd class=\"txt_block\"> <span class=\"inline\"> <a class=\"txt84\" href=\"https://blog.naver.com/hnmh2332\" onclick=\"return goOtherCR(this, 'u='+urlencode(urlexpand(this.href))+'&amp;a=blg*i.blogname&amp;r=1&amp;i=90000003_0000000000000033B2566AA3');\" target=\"_blank\">♥️초록바다의 감성...</a> <a class=\"url\" href=\"https://blog.naver.com/hnmh2332?Redirect=Log&amp;logNo=222035339939\" onclick=\"return goOtherCR(this, 'a=blg*i.url&amp;r=1&amp;i=90000003_0000000000000033B2566AA3&amp;u='+urlencode(this.href))\" target=\"_blank\">blog.naver.com/hnmh2332/222035339939</a> <span class=\"bar\"></span><a class=\"txt84\" href=\"?date_from=&amp;date_option=0&amp;date_to=&amp;dup_remove=1&amp;nso=&amp;qdt=0&amp;query=%EC%97%AC%EB%A6%84%ED%9C%B4%EA%B0%80&amp;qvt=0&amp;sm=tab_brs&amp;srchby=all&amp;st=sim&amp;where=post&amp;post_blogurl=blog.naver.com%2Fhnmh2332\" onclick=\"return goOtherCR(this, 'a=blg*i.similar&amp;r=1&amp;i=90000003_0000000000000033B2566AA3&amp;u='+urlencode(this.href))\">블로그 내 검색</a> </span> </dd> </dl> </li> <li class=\"sh_blog_top\" id=\"sp_blog_2\"> <div class=\"thumb thumb-rollover\"> <a class=\"sp_thmb thmb80\" href=\"https://anndam.blog.me/222039786803\" onclick=\"return goOtherCR(this, 'a=blg*i.img&amp;r=2&amp;i=90000003_0000000000000033B29A4533&amp;u='+urlencode(this.href))\" target=\"_blank\"><img alt=\"거제도 갈만한곳 여름\" class=\"sh_blog_thumbnail\" height=\"80\" onerror=\"this.parentNode.parentNode.style.display='none';\" onload=\"onThumbnailLoad(this,'https://search.pstatic.net/common/?src=http%3A%2F%2Fblogfiles.naver.net%2FMjAyMDA3MjBfMTQx%2FMDAxNTk1MjQyOTExMTg2.EqMG-NrSwKO7aUr_uuGDKjqPJbmDlWLnjZnkk5E1aOIg.4rgVXSx2RKMvtzkIi7InwLTH-_fBdmGx9KaaQt09ZnQg.JPEG.anndam%2F01.jpg%23600x600&amp;type=m80_80');\" src=\"https://search.pstatic.net/common/?src=http%3A%2F%2Fblogfiles.naver.net%2FMjAyMDA3MjBfMTQx%2FMDAxNTk1MjQyOTExMTg2.EqMG-NrSwKO7aUr_uuGDKjqPJbmDlWLnjZnkk5E1aOIg.4rgVXSx2RKMvtzkIi7InwLTH-_fBdmGx9KaaQt09ZnQg.JPEG.anndam%2F01.jpg%23600x600&amp;type=m80_80\" width=\"80\"/><span class=\"thmb_v\"></span><span class=\"mask\"></span> </a> <a class=\"thumb_num num-rollover\" href=\"#\"><span>22<span class=\"blind\">장의 이미지 더보기</span></span></a> <div class=\"thumb_slide_wrap\" style=\"width:0px; overflow:hidden; display:none;\"></div> </div> <dl> <dt><a class=\"sh_blog_title _sp_each_url _sp_each_title\" href=\"https://anndam.blog.me/222039786803\" onclick=\"return goOtherCR(this, 'a=blg*i.tit&amp;r=2&amp;i=90000003_0000000000000033B29A4533&amp;u='+urlencode(this.href))\" target=\"_blank\" title=\"거제도 갈만한곳 여름휴가 명사해수욕장 어때요?\">거제도 갈만한곳 <strong class=\"hl\">여름휴가</strong> 명사해수욕장 어때요?</a></dt> <dd class=\"txt_inline\">2020.07.24. </dd> <dd class=\"sh_blog_passage\">▷▷ 거제도 갈만한곳 조용하고 호젓한 <strong class=\"hl\">여름휴가</strong> 갈곳으로 명사해수욕장은 어떨까... <strong class=\"hl\">여름휴가</strong> 어디로 갈까, 어느 해수욕장이 좋을까 선택의 기로에 섰다면 갈만한...</dd> <dd class=\"txt_block\"> <span class=\"inline\"> <a class=\"txt84\" href=\"https://anndam.blog.me\" onclick=\"return goOtherCR(this, 'u='+urlencode(urlexpand(this.href))+'&amp;a=blg*i.blogname&amp;r=2&amp;i=90000003_0000000000000033B29A4533');\" target=\"_blank\">♥마리안의 여행이야기-마음...</a> <a class=\"url\" href=\"https://anndam.blog.me/222039786803\" onclick=\"return goOtherCR(this, 'a=blg*i.url&amp;r=2&amp;i=90000003_0000000000000033B29A4533&amp;u='+urlencode(this.href))\" target=\"_blank\">anndam.blog.me/22203...</a> <span class=\"bar\"></span><a class=\"txt84\" href=\"?date_from=&amp;date_option=0&amp;date_to=&amp;dup_remove=1&amp;nso=&amp;qdt=0&amp;query=%EC%97%AC%EB%A6%84%ED%9C%B4%EA%B0%80&amp;qvt=0&amp;sm=tab_brs&amp;srchby=all&amp;st=sim&amp;where=post&amp;post_blogurl=anndam.blog.me\" onclick=\"return goOtherCR(this, 'a=blg*i.similar&amp;r=2&amp;i=90000003_0000000000000033B29A4533&amp;u='+urlencode(this.href))\">블로그 내 검색</a> <span class=\"bar\"></span><a class=\"map_opn _bck_open_map _mapid-bl01137214639 _postId-90000003_0000000000000033B29A4533 _cr-a=blg*i.area&amp;r=2&amp;i=90000003_0000000000000033B29A4533\" href=\"#\" onclick=\"return false;\">약도</a> </span> </dd> </dl> </li> <li class=\"sh_blog_top\" id=\"sp_blog_3\"> <div class=\"thumb thumb-rollover\"> <a class=\"sp_thmb thmb80\" href=\"https://blog.naver.com/okkmskim?Redirect=Log&amp;logNo=222050852408\" onclick=\"return goOtherCR(this, 'a=blg*i.img&amp;r=3&amp;i=90000003_0000000000000033B3431E38&amp;u='+urlencode(this.href))\" target=\"_blank\"><img alt=\"평창 풀빌라 펜트하우\" class=\"sh_blog_thumbnail\" height=\"54\" onerror=\"this.parentNode.parentNode.style.display='none';\" onload=\"onThumbnailLoad(this,'https://search.pstatic.net/common/?src=http%3A%2F%2Fblogfiles.naver.net%2FMjAyMDA4MDRfMTc0%2FMDAxNTk2NTE0MjUzMDYx.mLRuy7flBL-j32-Vrvboxm9Fuct24evA9G-nmL-3SJcg.0R8hsXLtjgc4IOogvYv8CWkmO9VY-PYICCAHVGTqeRMg.JPEG.okkmskim%2F17.JPG%232784x1856&amp;type=m80_80');\" src=\"https://search.pstatic.net/common/?src=http%3A%2F%2Fblogfiles.naver.net%2FMjAyMDA4MDRfMTc0%2FMDAxNTk2NTE0MjUzMDYx.mLRuy7flBL-j32-Vrvboxm9Fuct24evA9G-nmL-3SJcg.0R8hsXLtjgc4IOogvYv8CWkmO9VY-PYICCAHVGTqeRMg.JPEG.okkmskim%2F17.JPG%232784x1856&amp;type=m80_80\" width=\"80\"/><span class=\"thmb_v\"></span><span class=\"mask\"></span> </a> <a class=\"thumb_num num-rollover\" href=\"#\"><span>29<span class=\"blind\">장의 이미지 더보기</span></span></a> <div class=\"thumb_slide_wrap\" style=\"width:0px; overflow:hidden; display:none;\"></div> </div> <dl> <dt><a class=\"sh_blog_title _sp_each_url _sp_each_title\" href=\"https://blog.naver.com/okkmskim?Redirect=Log&amp;logNo=222050852408\" onclick=\"return goOtherCR(this, 'a=blg*i.tit&amp;r=3&amp;i=90000003_0000000000000033B3431E38&amp;u='+urlencode(this.href))\" target=\"_blank\" title=\"평창 풀빌라 펜트하우스에서 최고의 여름 휴가\">평창 풀빌라 펜트하우스에서 최고의 <strong class=\"hl\">여름 휴가</strong></a></dt> <dd class=\"txt_inline\">7시간 전 </dd> <dd class=\"sh_blog_passage\">kr/ 평창 풀빌라 펜트하우스 예약을 하시려면~ 0 1 0 - 5 3 7 5 - 9 2 0 7 펜트하우스펜션 위치는~ 올 여름은 장마가 끝날 기미가 보이질 않네요. 저희 <strong class=\"hl\">여름 휴가</strong> 떠나는 날에도...</dd> <dd class=\"txt_block\"> <span class=\"inline\"> <a class=\"txt84\" href=\"https://blog.naver.com/okkmskim\" onclick=\"return goOtherCR(this, 'u='+urlencode(urlexpand(this.href))+'&amp;a=blg*i.blogname&amp;r=3&amp;i=90000003_0000000000000033B3431E38');\" target=\"_blank\">유자선생의 국내여행 블로그</a> <a class=\"url\" href=\"https://blog.naver.com/okkmskim?Redirect=Log&amp;logNo=222050852408\" onclick=\"return goOtherCR(this, 'a=blg*i.url&amp;r=3&amp;i=90000003_0000000000000033B3431E38&amp;u='+urlencode(this.href))\" target=\"_blank\">blog.naver.com/okkms...</a> <span class=\"bar\"></span><a class=\"txt84\" href=\"?date_from=&amp;date_option=0&amp;date_to=&amp;dup_remove=1&amp;nso=&amp;qdt=0&amp;query=%EC%97%AC%EB%A6%84%ED%9C%B4%EA%B0%80&amp;qvt=0&amp;sm=tab_brs&amp;srchby=all&amp;st=sim&amp;where=post&amp;post_blogurl=blog.naver.com%2Fokkmskim\" onclick=\"return goOtherCR(this, 'a=blg*i.similar&amp;r=3&amp;i=90000003_0000000000000033B3431E38&amp;u='+urlencode(this.href))\">블로그 내 검색</a> <span class=\"bar\"></span><a class=\"map_opn _bck_open_map _mapid-bl01138989221 _postId-90000003_0000000000000033B3431E38 _cr-a=blg*i.area&amp;r=4&amp;i=90000003_0000000000000033B3431E38\" href=\"#\" onclick=\"return false;\">약도</a> </span> </dd> </dl> </li> <li class=\"sh_blog_top\" id=\"sp_blog_4\"> <div class=\"thumb thumb-rollover\"> <a class=\"sp_thmb thmb80\" href=\"https://blog.naver.com/mina860527?Redirect=Log&amp;logNo=222049424692\" onclick=\"return goOtherCR(this, 'a=blg*i.img&amp;r=4&amp;i=90000003_0000000000000033B32D5534&amp;u='+urlencode(this.href))\" target=\"_blank\"><img alt=\"제주도 여름휴가 호캉\" class=\"sh_blog_thumbnail\" height=\"80\" onerror=\"this.parentNode.parentNode.style.display='none';\" onload=\"onThumbnailLoad(this,'https://search.pstatic.net/common/?src=http%3A%2F%2Fblogfiles.naver.net%2FMjAyMDA4MDNfMTM1%2FMDAxNTk2MzgyNTMxNTQz.lvGpa5nAa0Xs3FMh_29tfsWBqK-OuX4jWI8X4uUVUD0g.6-aCo8OV7qS3edKfPD8QGOW9HYL2-dPlzrr3t5o5FE4g.PNG.mina860527%2FIMG_70882.png%23590x590&amp;type=m80_80');\" src=\"https://search.pstatic.net/common/?src=http%3A%2F%2Fblogfiles.naver.net%2FMjAyMDA4MDNfMTM1%2FMDAxNTk2MzgyNTMxNTQz.lvGpa5nAa0Xs3FMh_29tfsWBqK-OuX4jWI8X4uUVUD0g.6-aCo8OV7qS3edKfPD8QGOW9HYL2-dPlzrr3t5o5FE4g.PNG.mina860527%2FIMG_70882.png%23590x590&amp;type=m80_80\" width=\"80\"/><span class=\"thmb_v\"></span><span class=\"mask\"></span> </a> <a class=\"thumb_num num-rollover\" href=\"#\"><span>80<span class=\"blind\">장의 이미지 더보기</span></span></a> <div class=\"thumb_slide_wrap\" style=\"width:0px; overflow:hidden; display:none;\"></div> </div> <dl> <dt><a class=\"sh_blog_title _sp_each_url _sp_each_title\" href=\"https://blog.naver.com/mina860527?Redirect=Log&amp;logNo=222049424692\" onclick=\"return goOtherCR(this, 'a=blg*i.tit&amp;r=4&amp;i=90000003_0000000000000033B32D5534&amp;u='+urlencode(this.href))\" target=\"_blank\" title=\"제주도 여름휴가 호캉스 : 조식, 애프터눈티까지 / 제주롯데호텔\">제주도 <strong class=\"hl\">여름휴가</strong> 호캉스 : 조식, 애프터눈티까지 / 제주롯데호텔</a></dt> <dd class=\"txt_inline\">어제 </dd> <dd class=\"sh_blog_passage\">그냥 지나치게 될 줄 알았던 <strong class=\"hl\">여름휴가</strong>도 챙겨서 다녀왔으니- 행복한 7월이었습니다 :-) 테라스에서 내려다본 풍차 야경으로 마무리 :) 이렇게 제주롯데호텔 여름패키지...</dd> <dd class=\"txt_block\"> <span class=\"inline\"> <a class=\"txt84\" href=\"https://blog.naver.com/mina860527\" onclick=\"return goOtherCR(this, 'u='+urlencode(urlexpand(this.href))+'&amp;a=blg*i.blogname&amp;r=4&amp;i=90000003_0000000000000033B32D5534');\" target=\"_blank\">메밀꽃부부의 세계일주프로...</a> <a class=\"url\" href=\"https://blog.naver.com/mina860527?Redirect=Log&amp;logNo=222049424692\" onclick=\"return goOtherCR(this, 'a=blg*i.url&amp;r=4&amp;i=90000003_0000000000000033B32D5534&amp;u='+urlencode(this.href))\" target=\"_blank\">blog.naver.com/mina8...</a> <span class=\"bar\"></span><a class=\"txt84\" href=\"?date_from=&amp;date_option=0&amp;date_to=&amp;dup_remove=1&amp;nso=&amp;qdt=0&amp;query=%EC%97%AC%EB%A6%84%ED%9C%B4%EA%B0%80&amp;qvt=0&amp;sm=tab_brs&amp;srchby=all&amp;st=sim&amp;where=post&amp;post_blogurl=blog.naver.com%2Fmina860527\" onclick=\"return goOtherCR(this, 'a=blg*i.similar&amp;r=4&amp;i=90000003_0000000000000033B32D5534&amp;u='+urlencode(this.href))\">블로그 내 검색</a> <span class=\"bar\"></span><a class=\"map_opn _bck_open_map _mapid-bl01138755308 _postId-90000003_0000000000000033B32D5534 _cr-a=blg*i.area&amp;r=6&amp;i=90000003_0000000000000033B32D5534\" href=\"#\" onclick=\"return false;\">약도</a> </span> </dd> </dl> </li> <li class=\"sh_blog_top\" id=\"sp_blog_5\"> <div class=\"thumb thumb-rollover\"> <a class=\"sp_thmb thmb80\" href=\"https://blog.naver.com/jeju8253?Redirect=Log&amp;logNo=222045536953\" onclick=\"return goOtherCR(this, 'a=blg*i.img&amp;r=5&amp;i=90000003_0000000000000033B2F202B9&amp;u='+urlencode(this.href))\" target=\"_blank\"><img alt=\"국내 여름휴가 추천 2\" class=\"sh_blog_thumbnail\" height=\"60\" onerror=\"this.parentNode.parentNode.style.display='none';\" onload=\"onThumbnailLoad(this,'https://search.pstatic.net/common/?src=http%3A%2F%2Fblogfiles.naver.net%2FMjAyMDA3MjlfNzIg%2FMDAxNTk2MDE5Nzk0NDg4.aBymT0AI_gLhzgbS2z7rtkF7uonf9FDEf2e_8UYyL8Qg.koKtiv1EGRhRacVC6G2rNIpMYA9d8d7b_ivzGUw4KkIg.JPEG.jeju8253%2F20200729_131226_HDR.jpg%231280x960&amp;type=m80_80');\" src=\"https://search.pstatic.net/common/?src=http%3A%2F%2Fblogfiles.naver.net%2FMjAyMDA3MjlfNzIg%2FMDAxNTk2MDE5Nzk0NDg4.aBymT0AI_gLhzgbS2z7rtkF7uonf9FDEf2e_8UYyL8Qg.koKtiv1EGRhRacVC6G2rNIpMYA9d8d7b_ivzGUw4KkIg.JPEG.jeju8253%2F20200729_131226_HDR.jpg%231280x960&amp;type=m80_80\" width=\"80\"/><span class=\"thmb_v\"></span><span class=\"mask\"></span> </a> <a class=\"thumb_num num-rollover\" href=\"#\"><span>24<span class=\"blind\">장의 이미지 더보기</span></span></a> <div class=\"thumb_slide_wrap\" style=\"width:0px; overflow:hidden; display:none;\"></div> </div> <dl> <dt><a class=\"sh_blog_title _sp_each_url _sp_each_title\" href=\"https://blog.naver.com/jeju8253?Redirect=Log&amp;logNo=222045536953\" onclick=\"return goOtherCR(this, 'a=blg*i.tit&amp;r=5&amp;i=90000003_0000000000000033B2F202B9&amp;u='+urlencode(this.href))\" target=\"_blank\" title=\"국내 여름휴가 추천 2박3일제주여행 한다면 제주 오름 고근산\">국내 <strong class=\"hl\">여름휴가</strong> 추천 2박3일제주여행 한다면 제주 오름 고근산</a></dt> <dd class=\"txt_inline\">6일 전 </dd> <dd class=\"sh_blog_passage\">많은 분들이 국내 <strong class=\"hl\">여름휴가</strong> 추천 장소들로 떠날 준비를 마치고 있을 거라는 생각을... 국내 <strong class=\"hl\">여름휴가</strong> 추천 지역들 중에서도 제주도가 습한 편인 것 같긴 하지만 유독...</dd> <dd class=\"txt_block\"> <span class=\"inline\"> <a class=\"txt84\" href=\"https://blog.naver.com/jeju8253\" onclick=\"return goOtherCR(this, 'u='+urlencode(urlexpand(this.href))+'&amp;a=blg*i.blogname&amp;r=5&amp;i=90000003_0000000000000033B2F202B9');\" target=\"_blank\">제주왕자</a> <a class=\"url\" href=\"https://blog.naver.com/jeju8253?Redirect=Log&amp;logNo=222045536953\" onclick=\"return goOtherCR(this, 'a=blg*i.url&amp;r=5&amp;i=90000003_0000000000000033B2F202B9&amp;u='+urlencode(this.href))\" target=\"_blank\">blog.naver.com/jeju8...</a> <span class=\"bar\"></span><a class=\"txt84\" href=\"?date_from=&amp;date_option=0&amp;date_to=&amp;dup_remove=1&amp;nso=&amp;qdt=0&amp;query=%EC%97%AC%EB%A6%84%ED%9C%B4%EA%B0%80&amp;qvt=0&amp;sm=tab_brs&amp;srchby=all&amp;st=sim&amp;where=post&amp;post_blogurl=blog.naver.com%2Fjeju8253\" onclick=\"return goOtherCR(this, 'a=blg*i.similar&amp;r=5&amp;i=90000003_0000000000000033B2F202B9&amp;u='+urlencode(this.href))\">블로그 내 검색</a> <span class=\"bar\"></span><a class=\"map_opn _bck_open_map _mapid-bl01138137431 _postId-90000003_0000000000000033B2F202B9 _cr-a=blg*i.area&amp;r=8&amp;i=90000003_0000000000000033B2F202B9\" href=\"#\" onclick=\"return false;\">약도</a> </span> </dd> </dl> </li> <li class=\"sh_blog_top\" id=\"sp_blog_6\"> <div class=\"thumb thumb-rollover\"> <a class=\"sp_thmb thmb80\" href=\"https://blog.naver.com/moka-pink?Redirect=Log&amp;logNo=222049435086\" onclick=\"return goOtherCR(this, 'a=blg*i.img&amp;r=6&amp;i=90000003_0000000000000033B32D7DCE&amp;u='+urlencode(this.href))\" target=\"_blank\"><img alt=\"여름휴가 부산 해운대\" class=\"sh_blog_thumbnail\" height=\"60\" onerror=\"this.parentNode.parentNode.style.display='none';\" onload=\"onThumbnailLoad(this,'https://search.pstatic.net/common/?src=http%3A%2F%2Fblogfiles.naver.net%2FMjAyMDA3MjZfOTcg%2FMDAxNTk1NzYzNjM0NzEw.OGuvlHcxAglGyY_MlmNKzIhDmMWzQbOm4YlsuqvzuEYg.J36C_NaVhTI5pw0JepaY-EozFAKbcHBbTf_tRuUEMfwg.JPEG.moka-pink%2F1595763635234.jpg%23900x675&amp;type=m80_80');\" src=\"https://search.pstatic.net/common/?src=http%3A%2F%2Fblogfiles.naver.net%2FMjAyMDA3MjZfOTcg%2FMDAxNTk1NzYzNjM0NzEw.OGuvlHcxAglGyY_MlmNKzIhDmMWzQbOm4YlsuqvzuEYg.J36C_NaVhTI5pw0JepaY-EozFAKbcHBbTf_tRuUEMfwg.JPEG.moka-pink%2F1595763635234.jpg%23900x675&amp;type=m80_80\" width=\"80\"/><span class=\"thmb_v\"></span><span class=\"mask\"></span> </a> <a class=\"thumb_num num-rollover\" href=\"#\"><span>19<span class=\"blind\">장의 이미지 더보기</span></span></a> <div class=\"thumb_slide_wrap\" style=\"width:0px; overflow:hidden; display:none;\"></div> </div> <dl> <dt><a class=\"sh_blog_title _sp_each_url _sp_each_title\" href=\"https://blog.naver.com/moka-pink?Redirect=Log&amp;logNo=222049435086\" onclick=\"return goOtherCR(this, 'a=blg*i.tit&amp;r=6&amp;i=90000003_0000000000000033B32D7DCE&amp;u='+urlencode(this.href))\" target=\"_blank\" title=\"여름휴가 부산 해운대 신라스테이 호텔에서 호캉스 즐기기\"><strong class=\"hl\">여름휴가</strong> 부산 해운대 신라스테이 호텔에서 호캉스 즐기기</a></dt> <dd class=\"txt_inline\">어제 </dd> <dd class=\"sh_blog_passage\">그래도 금요일부터 올림픽대로 엄청 밀리더라구요ㅜㅜ 다들 <strong class=\"hl\">여름휴가</strong> 즐기러 가시는지 ㅋ 저희는 이번 여름도 바빠서 <strong class=\"hl\">여름휴가</strong>가 없을 것 같아 아들 학교가 부산이라...</dd> <dd class=\"txt_block\"> <span class=\"inline\"> <a class=\"txt84\" href=\"https://blog.naver.com/moka-pink\" onclick=\"return goOtherCR(this, 'u='+urlencode(urlexpand(this.href))+'&amp;a=blg*i.blogname&amp;r=6&amp;i=90000003_0000000000000033B32D7DCE');\" target=\"_blank\">정기연의 깐깐한 이불</a> <a class=\"url\" href=\"https://blog.naver.com/moka-pink?Redirect=Log&amp;logNo=222049435086\" onclick=\"return goOtherCR(this, 'a=blg*i.url&amp;r=6&amp;i=90000003_0000000000000033B32D7DCE&amp;u='+urlencode(this.href))\" target=\"_blank\">blog.naver.com/moka-...</a> <span class=\"bar\"></span><a class=\"txt84\" href=\"?date_from=&amp;date_option=0&amp;date_to=&amp;dup_remove=1&amp;nso=&amp;qdt=0&amp;query=%EC%97%AC%EB%A6%84%ED%9C%B4%EA%B0%80&amp;qvt=0&amp;sm=tab_brs&amp;srchby=all&amp;st=sim&amp;where=post&amp;post_blogurl=blog.naver.com%2Fmoka-pink\" onclick=\"return goOtherCR(this, 'a=blg*i.similar&amp;r=6&amp;i=90000003_0000000000000033B32D7DCE&amp;u='+urlencode(this.href))\">블로그 내 검색</a> <span class=\"bar\"></span><a class=\"map_opn _bck_open_map _mapid-bl01138757599 _postId-90000003_0000000000000033B32D7DCE _cr-a=blg*i.area&amp;r=10&amp;i=90000003_0000000000000033B32D7DCE\" href=\"#\" onclick=\"return false;\">약도</a> </span> </dd> </dl> </li> <li class=\"sh_blog_top\" id=\"sp_blog_7\"> <div class=\"thumb thumb-rollover\"> <a class=\"sp_thmb thmb80\" href=\"https://blog.naver.com/tcacyc?Redirect=Log&amp;logNo=222036992507\" onclick=\"return goOtherCR(this, 'a=blg*i.img&amp;r=7&amp;i=90000003_0000000000000033B26FA1FB&amp;u='+urlencode(this.href))\" target=\"_blank\"><img alt=\"가평 수상레저 여름 휴\" class=\"sh_blog_thumbnail\" height=\"62\" onerror=\"this.parentNode.parentNode.style.display='none';\" onload=\"onThumbnailLoad(this,'https://search.pstatic.net/common/?src=http%3A%2F%2Fblogfiles.naver.net%2FMjAyMDA3MTdfMTYx%2FMDAxNTk0OTU0MDExOTgw.dC8bDSYni7jOxbImvZPNkimR9gs0BegxJOJJqAH3oX4g.87wxRY6MhaVNKaU1_mI83-MxKzRTtov04NNk_EYM7mMg.JPEG.tcacyc%2F01_%25B7%25B9%25C0%25FA%25C4%25B7%25C7%25C1.jpg%23900x700&amp;type=m80_80');\" src=\"https://search.pstatic.net/common/?src=http%3A%2F%2Fblogfiles.naver.net%2FMjAyMDA3MTdfMTYx%2FMDAxNTk0OTU0MDExOTgw.dC8bDSYni7jOxbImvZPNkimR9gs0BegxJOJJqAH3oX4g.87wxRY6MhaVNKaU1_mI83-MxKzRTtov04NNk_EYM7mMg.JPEG.tcacyc%2F01_%25B7%25B9%25C0%25FA%25C4%25B7%25C7%25C1.jpg%23900x700&amp;type=m80_80\" width=\"80\"/><span class=\"thmb_v\"></span><span class=\"mask\"></span> </a> <a class=\"thumb_num num-rollover\" href=\"#\"><span>29<span class=\"blind\">장의 이미지 더보기</span></span></a> <div class=\"thumb_slide_wrap\" style=\"width:0px; overflow:hidden; display:none;\"></div> </div> <dl> <dt><a class=\"sh_blog_title _sp_each_url _sp_each_title\" href=\"https://blog.naver.com/tcacyc?Redirect=Log&amp;logNo=222036992507\" onclick=\"return goOtherCR(this, 'a=blg*i.tit&amp;r=7&amp;i=90000003_0000000000000033B26FA1FB&amp;u='+urlencode(this.href))\" target=\"_blank\" title=\"가평 수상레저 여름 휴가는 여기로~\">가평 수상레저 <strong class=\"hl\">여름 휴가</strong>는 여기로~</a></dt> <dd class=\"txt_inline\">2020.07.21. </dd> <dd class=\"sh_blog_passage\">역시나 여름에는 가평 수상레저가 최고임을 다시 한번 깨달았는데요. 물 위를... 후회막급이니 <strong class=\"hl\">여름 휴가</strong> 때 꼭 해보시면 좋겠습니다. 서울에서 1시간 거리이고...</dd> <dd class=\"txt_block\"> <span class=\"inline\"> <a class=\"txt84\" href=\"https://blog.naver.com/tcacyc\" onclick=\"return goOtherCR(this, 'u='+urlencode(urlexpand(this.href))+'&amp;a=blg*i.blogname&amp;r=7&amp;i=90000003_0000000000000033B26FA1FB');\" target=\"_blank\">일상탈출</a> <a class=\"url\" href=\"https://blog.naver.com/tcacyc?Redirect=Log&amp;logNo=222036992507\" onclick=\"return goOtherCR(this, 'a=blg*i.url&amp;r=7&amp;i=90000003_0000000000000033B26FA1FB&amp;u='+urlencode(this.href))\" target=\"_blank\">blog.naver.com/tcacy...</a> <span class=\"bar\"></span><a class=\"txt84\" href=\"?date_from=&amp;date_option=0&amp;date_to=&amp;dup_remove=1&amp;nso=&amp;qdt=0&amp;query=%EC%97%AC%EB%A6%84%ED%9C%B4%EA%B0%80&amp;qvt=0&amp;sm=tab_brs&amp;srchby=all&amp;st=sim&amp;where=post&amp;post_blogurl=blog.naver.com%2Ftcacyc\" onclick=\"return goOtherCR(this, 'a=blg*i.similar&amp;r=7&amp;i=90000003_0000000000000033B26FA1FB&amp;u='+urlencode(this.href))\">블로그 내 검색</a> <span class=\"bar\"></span><a class=\"map_opn _bck_open_map _mapid-bl01137196630 _postId-90000003_0000000000000033B26FA1FB _cr-a=blg*i.area&amp;r=12&amp;i=90000003_0000000000000033B26FA1FB\" href=\"#\" onclick=\"return false;\">약도</a> </span> </dd> </dl> </li> <li class=\"sh_blog_top\" id=\"sp_blog_8\"> <div class=\"thumb thumb-rollover\"> <a class=\"sp_thmb thmb80\" href=\"https://blog.naver.com/hyeumnarae?Redirect=Log&amp;logNo=222050767744\" onclick=\"return goOtherCR(this, 'a=blg*i.img&amp;r=8&amp;i=90000003_0000000000000033B341D380&amp;u='+urlencode(this.href))\" target=\"_blank\"><img alt=\"알차디 알찬 다이나믹\" class=\"sh_blog_thumbnail\" height=\"80\" onerror=\"this.parentNode.parentNode.style.display='none';\" onload=\"onThumbnailLoad(this,'https://search.pstatic.net/common/?src=http%3A%2F%2Fblogfiles.naver.net%2FMjAyMDA4MDRfMTg3%2FMDAxNTk2NTA3MzA4Njc5.j2jk71msT7UGBcrnxKnkB7QMzDPVGVm_foqRNhqKT8Mg.g26tKQoXaToHSMlFMPuKJnf6CIPHXwJlwYstGqDqCvYg.JPEG.hyeumnarae%2FBD199AFE-3646-4F45-B050-B45936446642-30426-00000CB61D71E68A.jpg%23900x900&amp;type=m80_80');\" src=\"https://search.pstatic.net/common/?src=http%3A%2F%2Fblogfiles.naver.net%2FMjAyMDA4MDRfMTg3%2FMDAxNTk2NTA3MzA4Njc5.j2jk71msT7UGBcrnxKnkB7QMzDPVGVm_foqRNhqKT8Mg.g26tKQoXaToHSMlFMPuKJnf6CIPHXwJlwYstGqDqCvYg.JPEG.hyeumnarae%2FBD199AFE-3646-4F45-B050-B45936446642-30426-00000CB61D71E68A.jpg%23900x900&amp;type=m80_80\" width=\"80\"/><span class=\"thmb_v\"></span><span class=\"mask\"></span> </a> <a class=\"thumb_num num-rollover\" href=\"#\"><span>69<span class=\"blind\">장의 이미지 더보기</span></span></a> <div class=\"thumb_slide_wrap\" style=\"width:0px; overflow:hidden; display:none;\"></div> </div> <dl> <dt><a class=\"sh_blog_title _sp_each_url _sp_each_title\" href=\"https://blog.naver.com/hyeumnarae?Redirect=Log&amp;logNo=222050767744\" onclick=\"return goOtherCR(this, 'a=blg*i.tit&amp;r=8&amp;i=90000003_0000000000000033B341D380&amp;u='+urlencode(this.href))\" target=\"_blank\" title=\"알차디 알찬 다이나믹 여름 휴가\">알차디 알찬 다이나믹 <strong class=\"hl\">여름 휴가</strong></a></dt> <dd class=\"txt_inline\">9시간 전 </dd> <dd class=\"sh_blog_passage\">장마와 태풍의 한가운데 <strong class=\"hl\">여름휴가</strong>를 떠난 사람입니다. 이렇게 비가 많이 올줄... <strong class=\"hl\">여름 휴가</strong> 1차가 끝났다... 2차 <strong class=\"hl\">여름 휴가</strong> 게획이 장마에 따라 어떻게 될지 모르겠지만.....</dd> <dd class=\"txt_block\"> <span class=\"inline\"> <a class=\"txt84\" href=\"https://blog.naver.com/hyeumnarae\" onclick=\"return goOtherCR(this, 'u='+urlencode(urlexpand(this.href))+'&amp;a=blg*i.blogname&amp;r=8&amp;i=90000003_0000000000000033B341D380');\" target=\"_blank\">Close 2 U</a> <a class=\"url\" href=\"https://blog.naver.com/hyeumnarae?Redirect=Log&amp;logNo=222050767744\" onclick=\"return goOtherCR(this, 'a=blg*i.url&amp;r=8&amp;i=90000003_0000000000000033B341D380&amp;u='+urlencode(this.href))\" target=\"_blank\">blog.naver.com/hyeumnarae/222050767744</a> <span class=\"bar\"></span><a class=\"txt84\" href=\"?date_from=&amp;date_option=0&amp;date_to=&amp;dup_remove=1&amp;nso=&amp;qdt=0&amp;query=%EC%97%AC%EB%A6%84%ED%9C%B4%EA%B0%80&amp;qvt=0&amp;sm=tab_brs&amp;srchby=all&amp;st=sim&amp;where=post&amp;post_blogurl=blog.naver.com%2Fhyeumnarae\" onclick=\"return goOtherCR(this, 'a=blg*i.similar&amp;r=8&amp;i=90000003_0000000000000033B341D380&amp;u='+urlencode(this.href))\">블로그 내 검색</a> </span> </dd> </dl> </li> <li class=\"sh_blog_top\" id=\"sp_blog_9\"> <div class=\"thumb thumb-rollover\"> <a class=\"sp_thmb thmb80\" href=\"https://blog.naver.com/lyu1388?Redirect=Log&amp;logNo=221990850090\" onclick=\"return goOtherCR(this, 'a=blg*i.img&amp;r=9&amp;i=90000003_0000000000000033AFAF8E2A&amp;u='+urlencode(this.href))\" target=\"_blank\"><img alt=\"국내 여름휴가는 신안\" class=\"sh_blog_thumbnail\" height=\"54\" onerror=\"this.parentNode.parentNode.style.display='none';\" onload=\"onThumbnailLoad(this,'https://search.pstatic.net/common/?src=http%3A%2F%2Fblogfiles.naver.net%2FMjAyMDA2MDRfOTUg%2FMDAxNTkxMjQ2ODg0MzQy.l8ZyMAhgcrNgek2VFSMJkFBL83TEDh7Aaal29GiZ9TIg.qJYmMJHaO7syJwjm7GLvyD1zZYioyg8sK7mcKVthOR4g.JPEG.lyu1388%2F289.JPG%232736x1824&amp;type=m80_80');\" src=\"https://search.pstatic.net/common/?src=http%3A%2F%2Fblogfiles.naver.net%2FMjAyMDA2MDRfOTUg%2FMDAxNTkxMjQ2ODg0MzQy.l8ZyMAhgcrNgek2VFSMJkFBL83TEDh7Aaal29GiZ9TIg.qJYmMJHaO7syJwjm7GLvyD1zZYioyg8sK7mcKVthOR4g.JPEG.lyu1388%2F289.JPG%232736x1824&amp;type=m80_80\" width=\"80\"/><span class=\"thmb_v\"></span><span class=\"mask\"></span> </a> <a class=\"thumb_num num-rollover\" href=\"#\"><span>38<span class=\"blind\">장의 이미지 더보기</span></span></a> <div class=\"thumb_slide_wrap\" style=\"width:0px; overflow:hidden; display:none;\"></div> </div> <dl> <dt><a class=\"sh_blog_title _sp_each_url _sp_each_title\" href=\"https://blog.naver.com/lyu1388?Redirect=Log&amp;logNo=221990850090\" onclick=\"return goOtherCR(this, 'a=blg*i.tit&amp;r=9&amp;i=90000003_0000000000000033AFAF8E2A&amp;u='+urlencode(this.href))\" target=\"_blank\" title=\"국내 여름휴가는 신안 증도가 딱!\">국내 <strong class=\"hl\">여름휴가</strong>는 신안 증도가 딱!</a></dt> <dd class=\"txt_inline\">2020.06.06. </dd> <dd class=\"sh_blog_passage\">지금부터 국내 <strong class=\"hl\">여름휴가</strong>로 왜 좋은지 알아볼까? 영광 칠산대교를 건너는 것부터... 금년에 휴가를 신안 증도로 온다면 이처럼 색다른 풍광도 함께 만끽할 수 있을 것~~~!</dd> <dd class=\"txt_block\"> <span class=\"inline\"> <a class=\"txt84\" href=\"https://blog.naver.com/lyu1388\" onclick=\"return goOtherCR(this, 'u='+urlencode(urlexpand(this.href))+'&amp;a=blg*i.blogname&amp;r=9&amp;i=90000003_0000000000000033AFAF8E2A');\" target=\"_blank\">재학이여정</a> <a class=\"url\" href=\"https://blog.naver.com/lyu1388?Redirect=Log&amp;logNo=221990850090\" onclick=\"return goOtherCR(this, 'a=blg*i.url&amp;r=9&amp;i=90000003_0000000000000033AFAF8E2A&amp;u='+urlencode(this.href))\" target=\"_blank\">blog.naver.com/lyu13...</a> <span class=\"bar\"></span><a class=\"txt84\" href=\"?date_from=&amp;date_option=0&amp;date_to=&amp;dup_remove=1&amp;nso=&amp;qdt=0&amp;query=%EC%97%AC%EB%A6%84%ED%9C%B4%EA%B0%80&amp;qvt=0&amp;sm=tab_brs&amp;srchby=all&amp;st=sim&amp;where=post&amp;post_blogurl=blog.naver.com%2Flyu1388\" onclick=\"return goOtherCR(this, 'a=blg*i.similar&amp;r=9&amp;i=90000003_0000000000000033AFAF8E2A&amp;u='+urlencode(this.href))\">블로그 내 검색</a> <span class=\"bar\"></span><a class=\"map_opn _bck_open_map _mapid-bl01129828232 _postId-90000003_0000000000000033AFAF8E2A _cr-a=blg*i.area&amp;r=16&amp;i=90000003_0000000000000033AFAF8E2A\" href=\"#\" onclick=\"return false;\">약도</a> </span> </dd> </dl> </li> <li class=\"sh_blog_top\" id=\"sp_blog_10\"> <div class=\"thumb thumb-rollover\"> <a class=\"sp_thmb thmb80\" href=\"https://blog.naver.com/jbm993?Redirect=Log&amp;logNo=222014186536\" onclick=\"return goOtherCR(this, 'a=blg*i.img&amp;r=10&amp;i=90000003_0000000000000033B113A428&amp;u='+urlencode(this.href))\" target=\"_blank\"><img alt=\"국내 여름휴가 추천 신\" class=\"sh_blog_thumbnail\" height=\"54\" onerror=\"this.parentNode.parentNode.style.display='none';\" onload=\"onThumbnailLoad(this,'https://search.pstatic.net/common/?src=http%3A%2F%2Fblogfiles.naver.net%2FMjAyMDA2MjdfNTEg%2FMDAxNTkzMjQ4NzA3MjU2.FciGpwG75FJ3cWy0RHX_HmLCroJfrCvquXmQns_PxVkg.KGMUCOrLTHGUOfiHmEKJKGY-zZFM3twlBRmk4sOjfr8g.JPEG.jbm993%2F2P7A7343.JPG%23900x600&amp;type=m80_80');\" src=\"https://search.pstatic.net/common/?src=http%3A%2F%2Fblogfiles.naver.net%2FMjAyMDA2MjdfNTEg%2FMDAxNTkzMjQ4NzA3MjU2.FciGpwG75FJ3cWy0RHX_HmLCroJfrCvquXmQns_PxVkg.KGMUCOrLTHGUOfiHmEKJKGY-zZFM3twlBRmk4sOjfr8g.JPEG.jbm993%2F2P7A7343.JPG%23900x600&amp;type=m80_80\" width=\"80\"/><span class=\"thmb_v\"></span><span class=\"mask\"></span> </a> <a class=\"thumb_num num-rollover\" href=\"#\"><span>33<span class=\"blind\">장의 이미지 더보기</span></span></a> <div class=\"thumb_slide_wrap\" style=\"width:0px; overflow:hidden; display:none;\"></div> </div> <dl> <dt><a class=\"sh_blog_title _sp_each_url _sp_each_title\" href=\"https://blog.naver.com/jbm993?Redirect=Log&amp;logNo=222014186536\" onclick=\"return goOtherCR(this, 'a=blg*i.tit&amp;r=10&amp;i=90000003_0000000000000033B113A428&amp;u='+urlencode(this.href))\" target=\"_blank\" title=\"국내 여름휴가 추천 신안 비금도초도 하트해수욕장(하누넘해변)\">국내 <strong class=\"hl\">여름휴가</strong> 추천 신안 비금도초도 하트해수욕장(하누넘해변)</a></dt> <dd class=\"txt_inline\">2020.06.27. </dd> <dd class=\"sh_blog_passage\">~ 7월의 시작과 함께 국내 <strong class=\"hl\">여름휴가</strong>를 어디로 떠날까 고민되시죠? 휴가 일정이... 비금도초도의 여름은 수국 만발한 꽃길이었어요. 해안에는 곱디고운 모래가 어쩜...</dd> <dd class=\"txt_block\"> <span class=\"inline\"> <a class=\"txt84\" href=\"https://blog.naver.com/jbm993\" onclick=\"return goOtherCR(this, 'u='+urlencode(urlexpand(this.href))+'&amp;a=blg*i.blogname&amp;r=10&amp;i=90000003_0000000000000033B113A428');\" target=\"_blank\">열씨미 카메라세상</a> <a class=\"url\" href=\"https://blog.naver.com/jbm993?Redirect=Log&amp;logNo=222014186536\" onclick=\"return goOtherCR(this, 'a=blg*i.url&amp;r=10&amp;i=90000003_0000000000000033B113A428&amp;u='+urlencode(this.href))\" target=\"_blank\">blog.naver.com/jbm99...</a> <span class=\"bar\"></span><a class=\"txt84\" href=\"?date_from=&amp;date_option=0&amp;date_to=&amp;dup_remove=1&amp;nso=&amp;qdt=0&amp;query=%EC%97%AC%EB%A6%84%ED%9C%B4%EA%B0%80&amp;qvt=0&amp;sm=tab_brs&amp;srchby=all&amp;st=sim&amp;where=post&amp;post_blogurl=blog.naver.com%2Fjbm993\" onclick=\"return goOtherCR(this, 'a=blg*i.similar&amp;r=10&amp;i=90000003_0000000000000033B113A428&amp;u='+urlencode(this.href))\">블로그 내 검색</a> <span class=\"bar\"></span><a class=\"map_opn _bck_open_map _mapid-bl01133449290 _postId-90000003_0000000000000033B113A428 _cr-a=blg*i.area&amp;r=18&amp;i=90000003_0000000000000033B113A428\" href=\"#\" onclick=\"return false;\">약도</a> </span> </dd> </dl> </li> </ul>]\n",
      "번호: 1\n",
      "제목: 국내 여름휴가 추천 울진여행 왕피천케이블카 탔어요~\n",
      "내용: 국내 여름휴가 추천 어디가 좋을까? 항상 고민하는 사람들이 많은데 여름철에는 뭐나뭐니해도 시원한 바다나 계곡이 있으면 최고다. 그렇게 산책코스를 둘러보고...\n",
      "\n",
      "\n"
     ]
    }
   ],
   "source": [
    "from bs4 import BeautifulSoup     \n",
    "from selenium import webdriver\n",
    "import time\n",
    "import sys\n",
    "\n",
    "query_txt = '여름휴가'\n",
    "NAME='testt'\n",
    "f_name = NAME+'txt'\n",
    "fc_name = NAME+'csv'\n",
    "fx_name = NAME+'xlsx'\n",
    "\n",
    "path = r\"C:\\Users\\201210961\\Desktop\\Coding\\Python Webscraping\\chromedriver_win32\\chromedriver.exe\"\n",
    "driver = webdriver.Chrome(path)\n",
    "\n",
    "driver.get(\"https://www.naver.com/\")\n",
    "time.sleep(2)  \n",
    "\n",
    "element = driver.find_element_by_id(\"query\")\n",
    "element.send_keys(query_txt)\n",
    "driver.find_element_by_id(\"search_btn\").click()\n",
    "driver.find_element_by_xpath('//*[@id=\"lnb\"]/div/div[1]/ul/li[5]/a').click()\n",
    "\n",
    "time.sleep(1)\n",
    "\n",
    "html = driver.page_source\n",
    "soup = BeautifulSoup(html, 'html.parser')\n",
    "\n",
    "content_list = soup.find_all('ul',id='elThumbnailResultArea')\n",
    "\n",
    "no=1\n",
    "name2=[]\n",
    "price2=[]\n",
    "no2=[]\n",
    "\n",
    "for i in content_list:\n",
    "    no2.append(no)                            \n",
    "    print('번호:',no)\n",
    "    \n",
    "    name = i.find('dt').get_text()\n",
    "    name2.append(name)\n",
    "    print('제목:',name.strip())\n",
    "\n",
    "    price= i.find('dd','sh_blog_passage').get_text()\n",
    "    price2.append(price)\n",
    "    print('내용:',price.strip())\n",
    "\n",
    "    print(\"\\n\")\n",
    "\n",
    "    no +=1  "
   ]
  },
  {
   "cell_type": "code",
   "execution_count": 5,
   "metadata": {},
   "outputs": [
    {
     "name": "stdout",
     "output_type": "stream",
     "text": [
      " csv 파일 저장 경로: C:\\Users\\201210961\\Desktop\\Coding\\Python Webscraping\\test1.csv\n",
      " xls 파일 저장 경로: C:\\Users\\201210961\\Desktop\\Coding\\Python Webscraping\\test1.xlsx\n",
      " txt 파일 저장 경로: C:\\Users\\201210961\\Desktop\\Coding\\Python Webscraping\\test1.txt\n"
     ]
    }
   ],
   "source": [
    "# 학습목표 2: 분리 수집된 데이터를 데이터 프레임으로 만들어서 \n",
    "# csv , xls 형식으로 저장하기\n",
    "  \n",
    "# 출력 결과를 표(데이터 프레임) 형태로 만들기\n",
    "import pandas as pd\n",
    "\n",
    "korea_trip = pd.DataFrame()\n",
    "korea_trip['번호']=no2\n",
    "korea_trip['내용']=contents2\n",
    "korea_trip['태그']=tags2\n",
    "\n",
    "# csv 형태로 저장하기\n",
    "korea_trip.to_csv(fc_name, encoding=\"utf-8-sig\")\n",
    "print(\" csv 파일 저장 경로: %s\" %fc_name)\n",
    "\n",
    "# 엑셀 형태로 저장하기\n",
    "import xlwt   # pip install xlwt 실행 후 수행\n",
    "korea_trip.to_excel(fx_name)\n",
    "print(\" xls 파일 저장 경로: %s\" %fx_name)\n",
    "\n",
    "# 출력 결과를 txt 파일로 저장하기\n",
    "f = open(f_name, 'a',encoding='UTF-8')\n",
    "f.write(str(contents2))\n",
    "f.write(str(tags2))\n",
    "f.close( )\n",
    "print(\" txt 파일 저장 경로: %s\" %f_name)  "
   ]
  },
  {
   "cell_type": "code",
   "execution_count": 16,
   "metadata": {},
   "outputs": [],
   "source": [
    "# 학습목표 3: openpyxl 패키지를 활용한 엑셀 형식의 파일 관리하기\n",
    "\n",
    "# 윈도의 cmd 창에서 pip install  openpyxl  명령과\n",
    "# 윈도의 cmd 창에서 pip install xlrd 명령을 먼저 실행하세요\n",
    "\n",
    "import openpyxl\n",
    "\n",
    "# Step 1. 새로운 엑셀 파일을 1개 생성합니다\n",
    "# wb = openpyxl.Workbook( )  \n",
    "# wb.save(r\"C:\\Users\\201210961\\Desktop\\Coding\\Python Webscraping\\test2.xlsx\")\n",
    "\n",
    "\n",
    "# Step 2. 새로운 시트 생성하고 시트이름 변경하기\n",
    "import openpyxl\n",
    "wb = openpyxl.Workbook( )\n",
    "\n",
    "sheet_1 = wb.active   # 현재 활성화 된 sheeet 가져오기\n",
    "\n",
    "# 새로운 시트를 만들면서 시트 이름을 지정하기\n",
    "sheet_2 = wb.create_sheet(\"매출현황\")\n",
    "sheet_3 = wb.create_sheet(\"rrrrr\")\n",
    "\n",
    "# 시트 이름 변경하기\n",
    "sheet_1.title = '123123123'\n",
    "sheet_2.title = 'asdasdasd'\n",
    "sheet_3.title = '11r1r1r1r1r'\n",
    "\n",
    "wb.save(r\"C:\\Users\\201210961\\Desktop\\Coding\\Python Webscraping\\test2.xlsx\")\n",
    "\n",
    "# Step 3. 기존 파일 불러와서 cell 에 내용 입력하기\n",
    "import openpyxl\n",
    "\n",
    "wb = openpyxl.load_workbook(r'C:\\Users\\201210961\\Desktop\\Coding\\Python Webscraping\\test2.xlsx')\n",
    "sheet_1 = wb[sheet_1.title]\n",
    "sheet_1['A1'] = '첫번째 cell'\n",
    "sheet_1['A2'] = '두번째 cell'\n",
    "sheet_2 = wb[sheet_2.title]\n",
    "sheet_2['A2'] = '두번째 cell'\n",
    "sheet_3 = wb[sheet_3.title]\n",
    "sheet_3['A2'] = '두번째 cell'\n",
    "\n",
    "wb.save(r\"C:\\Users\\201210961\\Desktop\\Coding\\Python Webscraping\\test2.xlsx\")"
   ]
  },
  {
   "cell_type": "code",
   "execution_count": null,
   "metadata": {},
   "outputs": [],
   "source": []
  }
 ],
 "metadata": {
  "kernelspec": {
   "display_name": "Python 3",
   "language": "python",
   "name": "python3"
  },
  "language_info": {
   "codemirror_mode": {
    "name": "ipython",
    "version": 3
   },
   "file_extension": ".py",
   "mimetype": "text/x-python",
   "name": "python",
   "nbconvert_exporter": "python",
   "pygments_lexer": "ipython3",
   "version": "3.8.5"
  }
 },
 "nbformat": 4,
 "nbformat_minor": 2
}
